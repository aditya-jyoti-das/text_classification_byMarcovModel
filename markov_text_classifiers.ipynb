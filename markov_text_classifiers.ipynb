{
 "cells": [
  {
   "cell_type": "markdown",
   "id": "bc72550b-c9c0-4365-bfa3-007cafcaa1e9",
   "metadata": {
    "tags": []
   },
   "source": [
    "#### bayes classification project\n",
    "##### as a input line of a poem will be given to the model and using markov model and bayes classifiers concept we will predict that this poem is written by robert frost or edger allen\n",
    "1. make two dataframe of sentences by robert frost and edger allen\n",
    "2. then split the data frame into train and  test split\n",
    "3. train dataset will be used to make the markov model for each poet \n",
    "4. using testing dataset we will try to predict the poet name by finding the probability of the sentences using that markov model\n"
   ]
  },
  {
   "cell_type": "markdown",
   "id": "5fb729fd-8d1d-43e7-a89a-7bfb7dbc0e6b",
   "metadata": {},
   "source": [
    "### import all necessary library"
   ]
  },
  {
   "cell_type": "code",
   "execution_count": 17,
   "id": "5a7c5571-9e06-41aa-b009-1a191ad04474",
   "metadata": {
    "tags": []
   },
   "outputs": [],
   "source": [
    "import pandas as pd\n",
    "import numpy as np\n",
    "import nltk\n",
    "from nltk import word_tokenize\n",
    "from nltk.stem import WordNetLemmatizer, PorterStemmer\n",
    "from nltk.corpus import wordnet\n",
    "from sklearn.model_selection import train_test_split\n",
    "from nltk.corpus import stopwords\n",
    "import re"
   ]
  },
  {
   "cell_type": "markdown",
   "id": "dbd0a79d-c510-4aa8-8e42-43788eb9805c",
   "metadata": {},
   "source": [
    "#### storing two robert frost and edger allen poem in different variable for further process"
   ]
  },
  {
   "cell_type": "code",
   "execution_count": 18,
   "id": "78d80b72-4fd1-4c8d-aeaf-3aba3cb097f2",
   "metadata": {
    "tags": []
   },
   "outputs": [],
   "source": [
    "with open('edger_allen.txt','r') as f:\n",
    "    edgerfile=f.read()"
   ]
  },
  {
   "cell_type": "code",
   "execution_count": 19,
   "id": "605e2b9c-3e23-496f-ba38-9f9ba8f319a6",
   "metadata": {
    "tags": []
   },
   "outputs": [],
   "source": [
    "with open('robert_frost.txt','r') as f:\n",
    "    roberfile=f.read()"
   ]
  },
  {
   "cell_type": "markdown",
   "id": "43f8ed2f-0ebb-40ec-bd0a-05fdfbbab9d8",
   "metadata": {},
   "source": [
    "### in this phase all the punctuation are removed from the text document, then splitted into sentences  and stored in pandas dataframes"
   ]
  },
  {
   "cell_type": "code",
   "execution_count": 20,
   "id": "ab9c3c3b-4408-4194-b065-a0fcb626e6a3",
   "metadata": {
    "tags": []
   },
   "outputs": [],
   "source": [
    "def creating_dataframe(string):\n",
    "    # print(string[:100])\n",
    "    \n",
    "    string= string.replace(\",\", \"\")\n",
    "    string=string.replace(\"â€‰\",\"\")\n",
    "    string=string.replace(\"!\",\"\")\n",
    "    string=string.replace(\"-\",\" \")\n",
    "    string=string.replace(\";\",\" \")\n",
    "    string=string.replace(\".\",\" \")\n",
    "    string=string.replace(\":\",\" \")\n",
    "    string=string.replace(\"(\",\" \")\n",
    "    string=string.replace(\")\",\" \")\n",
    "    string=string.replace(\"'\",\" \")\n",
    "    string=string.replace('\"',\" \")\n",
    "    string=string.replace('?',\" \")\n",
    "    \n",
    "    \n",
    "    sentToken=string.lower().splitlines()\n",
    "    return pd.DataFrame(sentToken,columns=['poemINsent'])\n",
    "    # print(type(sentToken))\n",
    "    # print(len(sentToken))\n",
    "    # for sent in sentToken:\n",
    "    #     print(sent)\n",
    "    #     print(\"___________________________________________________________________\")\n",
    "df_edger_allen=creating_dataframe(edgerfile)\n",
    "df_robert_frost=creating_dataframe(roberfile)\n"
   ]
  },
  {
   "cell_type": "markdown",
   "id": "f01ffbc0-b841-477f-9742-52e561c6854c",
   "metadata": {
    "tags": []
   },
   "source": [
    "### removing rows which contains empty sentences"
   ]
  },
  {
   "cell_type": "code",
   "execution_count": 21,
   "id": "4e2e6f79-89c1-4edd-a985-236827c64788",
   "metadata": {
    "tags": []
   },
   "outputs": [],
   "source": [
    "df_edger_allen=df_edger_allen.loc[df_edger_allen['poemINsent']!=\"\"]\n",
    "df_robert_frost=df_robert_frost.loc[df_robert_frost['poemINsent']!=\"\"]\n"
   ]
  },
  {
   "cell_type": "code",
   "execution_count": 22,
   "id": "aa804850-f876-469e-8f8f-433e2679e3e7",
   "metadata": {
    "tags": []
   },
   "outputs": [],
   "source": [
    "df_edger_allen=df_edger_allen[['poemINsent']]\n",
    "df_robert_frost=df_robert_frost[['poemINsent']]"
   ]
  },
  {
   "cell_type": "code",
   "execution_count": 23,
   "id": "72293d77-b7c3-4749-9512-00be6d64cbc4",
   "metadata": {
    "tags": []
   },
   "outputs": [
    {
     "data": {
      "text/html": [
       "<div>\n",
       "<style scoped>\n",
       "    .dataframe tbody tr th:only-of-type {\n",
       "        vertical-align: middle;\n",
       "    }\n",
       "\n",
       "    .dataframe tbody tr th {\n",
       "        vertical-align: top;\n",
       "    }\n",
       "\n",
       "    .dataframe thead th {\n",
       "        text-align: right;\n",
       "    }\n",
       "</style>\n",
       "<table border=\"1\" class=\"dataframe\">\n",
       "  <thead>\n",
       "    <tr style=\"text-align: right;\">\n",
       "      <th></th>\n",
       "      <th>poemINsent</th>\n",
       "    </tr>\n",
       "  </thead>\n",
       "  <tbody>\n",
       "    <tr>\n",
       "      <th>0</th>\n",
       "      <td>two roads diverged in a yellow wood</td>\n",
       "    </tr>\n",
       "    <tr>\n",
       "      <th>1</th>\n",
       "      <td>and sorry i could not travel both</td>\n",
       "    </tr>\n",
       "    <tr>\n",
       "      <th>2</th>\n",
       "      <td>and be one traveler long i stood</td>\n",
       "    </tr>\n",
       "    <tr>\n",
       "      <th>3</th>\n",
       "      <td>and looked down one as far as i could</td>\n",
       "    </tr>\n",
       "    <tr>\n",
       "      <th>4</th>\n",
       "      <td>to where it bent in the undergrowth</td>\n",
       "    </tr>\n",
       "    <tr>\n",
       "      <th>...</th>\n",
       "      <td>...</td>\n",
       "    </tr>\n",
       "    <tr>\n",
       "      <th>1575</th>\n",
       "      <td>to say which buds are leaf and which are bloom</td>\n",
       "    </tr>\n",
       "    <tr>\n",
       "      <th>1577</th>\n",
       "      <td>a feather hammer gives a double knock</td>\n",
       "    </tr>\n",
       "    <tr>\n",
       "      <th>1578</th>\n",
       "      <td>this eden day is done at two o clock</td>\n",
       "    </tr>\n",
       "    <tr>\n",
       "      <th>1579</th>\n",
       "      <td>an hour of winter day might seem too short</td>\n",
       "    </tr>\n",
       "    <tr>\n",
       "      <th>1580</th>\n",
       "      <td>to make it worth life s while to wake and sport</td>\n",
       "    </tr>\n",
       "  </tbody>\n",
       "</table>\n",
       "<p>1436 rows × 1 columns</p>\n",
       "</div>"
      ],
      "text/plain": [
       "                                            poemINsent\n",
       "0                  two roads diverged in a yellow wood\n",
       "1                    and sorry i could not travel both\n",
       "2                     and be one traveler long i stood\n",
       "3                and looked down one as far as i could\n",
       "4                to where it bent in the undergrowth  \n",
       "...                                                ...\n",
       "1575   to say which buds are leaf and which are bloom \n",
       "1577            a feather hammer gives a double knock \n",
       "1578             this eden day is done at two o clock \n",
       "1579        an hour of winter day might seem too short\n",
       "1580  to make it worth life s while to wake and sport \n",
       "\n",
       "[1436 rows x 1 columns]"
      ]
     },
     "execution_count": 23,
     "metadata": {},
     "output_type": "execute_result"
    }
   ],
   "source": [
    "df_robert_frost"
   ]
  },
  {
   "cell_type": "code",
   "execution_count": 24,
   "id": "a6474d10-5760-4a1d-b5fa-a1499016e0e7",
   "metadata": {
    "tags": []
   },
   "outputs": [
    {
     "data": {
      "text/html": [
       "<div>\n",
       "<style scoped>\n",
       "    .dataframe tbody tr th:only-of-type {\n",
       "        vertical-align: middle;\n",
       "    }\n",
       "\n",
       "    .dataframe tbody tr th {\n",
       "        vertical-align: top;\n",
       "    }\n",
       "\n",
       "    .dataframe thead th {\n",
       "        text-align: right;\n",
       "    }\n",
       "</style>\n",
       "<table border=\"1\" class=\"dataframe\">\n",
       "  <thead>\n",
       "    <tr style=\"text-align: right;\">\n",
       "      <th></th>\n",
       "      <th>poemINsent</th>\n",
       "    </tr>\n",
       "  </thead>\n",
       "  <tbody>\n",
       "    <tr>\n",
       "      <th>0</th>\n",
       "      <td>lo death hath rear d himself a throne</td>\n",
       "    </tr>\n",
       "    <tr>\n",
       "      <th>1</th>\n",
       "      <td>in a strange city all alone</td>\n",
       "    </tr>\n",
       "    <tr>\n",
       "      <th>2</th>\n",
       "      <td>far down within the dim west</td>\n",
       "    </tr>\n",
       "    <tr>\n",
       "      <th>3</th>\n",
       "      <td>where the good and the bad and the worst and t...</td>\n",
       "    </tr>\n",
       "    <tr>\n",
       "      <th>4</th>\n",
       "      <td>have gone to their eternal rest</td>\n",
       "    </tr>\n",
       "    <tr>\n",
       "      <th>...</th>\n",
       "      <td>...</td>\n",
       "    </tr>\n",
       "    <tr>\n",
       "      <th>792</th>\n",
       "      <td>to a discordant melody</td>\n",
       "    </tr>\n",
       "    <tr>\n",
       "      <th>793</th>\n",
       "      <td>while like a rapid ghastly river</td>\n",
       "    </tr>\n",
       "    <tr>\n",
       "      <th>794</th>\n",
       "      <td>through the pale door</td>\n",
       "    </tr>\n",
       "    <tr>\n",
       "      <th>795</th>\n",
       "      <td>a hideous throng rush out forever</td>\n",
       "    </tr>\n",
       "    <tr>\n",
       "      <th>796</th>\n",
       "      <td>and laugh   but smile no more</td>\n",
       "    </tr>\n",
       "  </tbody>\n",
       "</table>\n",
       "<p>718 rows × 1 columns</p>\n",
       "</div>"
      ],
      "text/plain": [
       "                                            poemINsent\n",
       "0                lo death hath rear d himself a throne\n",
       "1                          in a strange city all alone\n",
       "2                         far down within the dim west\n",
       "3    where the good and the bad and the worst and t...\n",
       "4                     have gone to their eternal rest \n",
       "..                                                 ...\n",
       "792                            to a discordant melody \n",
       "793                   while like a rapid ghastly river\n",
       "794                              through the pale door\n",
       "795                  a hideous throng rush out forever\n",
       "796                     and laugh   but smile no more \n",
       "\n",
       "[718 rows x 1 columns]"
      ]
     },
     "execution_count": 24,
     "metadata": {},
     "output_type": "execute_result"
    }
   ],
   "source": [
    "df_edger_allen\n"
   ]
  },
  {
   "cell_type": "code",
   "execution_count": null,
   "id": "8cae4a15-cbc5-4f4e-b225-18ed0cf026b7",
   "metadata": {},
   "outputs": [],
   "source": []
  },
  {
   "cell_type": "code",
   "execution_count": 25,
   "id": "a9a55904-9d69-474f-9187-732d63bd3f16",
   "metadata": {
    "tags": []
   },
   "outputs": [],
   "source": [
    "tagging={'J':wordnet.ADJ,\n",
    "        'V':wordnet.VERB,\n",
    "        'N':wordnet.NOUN,\n",
    "        'R':wordnet.ADV}\n",
    "def getword_pos(treebank_tag):\n",
    "    if treebank_tag[0] in tagging:\n",
    "        return tagging[treebank_tag[0]]\n",
    "    else:\n",
    "        return tagging['N']"
   ]
  },
  {
   "cell_type": "markdown",
   "id": "bd1187da-c4e3-4772-888f-abed2b93a878",
   "metadata": {},
   "source": [
    "##### to tokenize the given document and to transform all the word to their present form i have used WordNetLemmatizer() class where i have to provide each word and corrspoding part of speech tag. \n",
    "##### e.g lemmatize('aditya',wordnet.NOUN) , to give this tag automatically to every word i have used nltk.pos_tag() which will tag every word with name like these [\"JJ\",\"NN\",\"CC\",\"VBP\",\"RB\",\"PRP$\",\"VBZ\"]\n",
    "##### but WordNetLemmatizer() class will take 'pos' tag in the form of wordnet.NOUN,wordnet.ADJ like these so for that getword_pos() function is used which is defined above \n"
   ]
  },
  {
   "cell_type": "code",
   "execution_count": 26,
   "id": "33ecf00a-6f28-49aa-9836-30067b5ce387",
   "metadata": {
    "tags": []
   },
   "outputs": [],
   "source": [
    "class LemmaTokenizer:\n",
    "    def __init__(self):\n",
    "        self.wnl=WordNetLemmatizer()\n",
    "    def __call__(self,doc):\n",
    "        token=word_tokenize(doc)\n",
    "        word_and_tag=nltk.pos_tag(token)\n",
    "        return[self.wnl.lemmatize(word,pos=getword_pos(tag)) for word, tag in word_and_tag]"
   ]
  },
  {
   "cell_type": "markdown",
   "id": "38b3636e-f743-4c74-ac43-ba9a8cba2d95",
   "metadata": {},
   "source": [
    "##### in below function each text sentence from pandas dataframe are tokenize with previously defined LemmaTokenizer class and after that i am assigning a  numerical value to each token and storing it into a list \n",
    "##### this function return a dictionary which contains  pairs of token and its id\n",
    "##### a dictionary of id:token pair \n",
    "##### list of list of id for each sentences of data frames for further process and to build markov model\n",
    "##### and in this mapping of token to id , each token is mapped to a unique id and each id is also mapped to a unique token "
   ]
  },
  {
   "cell_type": "code",
   "execution_count": 27,
   "id": "3f08d46a-ff5c-4180-9ab3-205992edaf9a",
   "metadata": {
    "tags": []
   },
   "outputs": [],
   "source": [
    "def lemmatize_and_assign_tokenId(df,content):\n",
    "    inx=0\n",
    "    wordToInd={}\n",
    "    tokenlist=[]\n",
    "    wnl=LemmaTokenizer()\n",
    "    for ind,row in df.head(700).iterrows():\n",
    "        curlist=[]\n",
    "        \n",
    "        for token in wnl(row[content]):\n",
    "            if token not in wordToInd:\n",
    "                wordToInd[token]=inx\n",
    "                inx+=1\n",
    "            curlist.append(wordToInd[token])\n",
    "        tokenlist.append(curlist)\n",
    "        \n",
    "    IndToWord={v:k for k,v in wordToInd.items()}\n",
    "\n",
    "    return wordToInd,tokenlist,IndToWord,inx\n",
    "wordToInd_edger,list_tokenId_edger,indToWord_edger,maxind_edger=lemmatize_and_assign_tokenId(df_edger_allen,'poemINsent')\n",
    "wordToInd_robert,list_tokenId_robert,indToWord_robert,maxind_robert=lemmatize_and_assign_tokenId(df_robert_frost,'poemINsent')    \n",
    "    "
   ]
  },
  {
   "cell_type": "code",
   "execution_count": 28,
   "id": "aad9706c-981b-4d24-ba75-5b97c3188f02",
   "metadata": {
    "tags": []
   },
   "outputs": [
    {
     "data": {
      "text/plain": [
       "(1074, 1164)"
      ]
     },
     "execution_count": 28,
     "metadata": {},
     "output_type": "execute_result"
    }
   ],
   "source": [
    "maxind_edger,maxind_robert"
   ]
  },
  {
   "cell_type": "code",
   "execution_count": null,
   "id": "f1003263-d97c-45ce-862c-83c5bfdd1358",
   "metadata": {
    "tags": []
   },
   "outputs": [],
   "source": [
    "wordToInd_edger,tokenId_edger,indToWord_edger,maxind"
   ]
  },
  {
   "cell_type": "markdown",
   "id": "3dc2c28a-5737-493f-a619-dccb089066fa",
   "metadata": {},
   "source": [
    "#### creating a marcov model where a 2D matrix is used to store no of occurrence of each consecutive two word together . it means as  row index all token are there which has already occur and each column index token  represent how many times it has occurred given that row index token has already occur\n",
    "#### this funciton also return a list which contains no of times each first word of the sentences occur in first position in entire dataset. which is called PI\n"
   ]
  },
  {
   "cell_type": "code",
   "execution_count": 29,
   "id": "8c6ad0bf-58cf-4fb6-84f6-e19b26a47f9c",
   "metadata": {},
   "outputs": [],
   "source": [
    "def create_markov(listoftokenid,maxind):\n",
    "    PI=np.zeros(maxind)\n",
    "    marcovModel=np.zeros((maxind,maxind))\n",
    "    \n",
    "    for ind, row in enumerate(listoftokenid):\n",
    "        PI[row[0]]+=1\n",
    "        for i in range(len(row)-1):\n",
    "            marcovModel[row[i],row[i+1]]+=1\n",
    "    return PI,marcovModel\n",
    "    \n",
    "PI_edger,A_marcov_edger=create_markov(list_tokenId_edger,maxind_edger)\n",
    "PI_robert,A_marcov_robert=create_markov(list_tokenId_robert,maxind_robert)"
   ]
  },
  {
   "cell_type": "code",
   "execution_count": 30,
   "id": "f14e0aa5-6206-42d6-953a-9df32b8707a2",
   "metadata": {},
   "outputs": [
    {
     "data": {
      "text/plain": [
       "(0.0022410522628992713, 0.0026725298473093137)"
      ]
     },
     "execution_count": 30,
     "metadata": {},
     "output_type": "execute_result"
    }
   ],
   "source": [
    "percentageOFNONzero_edger=(A_marcov_edger!=0).sum()/np.multiply(A_marcov_edger.shape[0],A_marcov_edger.shape[1])\n",
    "percentageOFNONzero_robert=(A_marcov_robert!=0).sum()/np.multiply(A_marcov_robert.shape[0],A_marcov_robert.shape[1])\n",
    "percentageOFNONzero_edger,percentageOFNONzero_robert"
   ]
  },
  {
   "cell_type": "markdown",
   "id": "3a45de98-81f3-4907-bd8b-19202dd76b01",
   "metadata": {
    "tags": []
   },
   "source": [
    "##### spliting the dataset  into training and testing dataset"
   ]
  },
  {
   "cell_type": "code",
   "execution_count": 31,
   "id": "816e9037-bbc2-4b95-978d-08e1b5155d0a",
   "metadata": {
    "tags": []
   },
   "outputs": [],
   "source": [
    "test_edger,test_robert=list_tokenId_edger[-50:],list_tokenId_robert[-50:]\n",
    "train_edger,train_robert=list_tokenId_edger[:300],list_tokenId_robert[:300]"
   ]
  },
  {
   "cell_type": "markdown",
   "id": "ea143926-e8c8-468e-af5b-2f78f4441742",
   "metadata": {},
   "source": [
    "##### smoothing the marcov matrix and PI list by adding a value 1 "
   ]
  },
  {
   "cell_type": "code",
   "execution_count": 32,
   "id": "cf0fcce5-f34e-45ba-b26c-b25a05e3d418",
   "metadata": {
    "tags": []
   },
   "outputs": [],
   "source": [
    "## smooting of the frequency value\n",
    "PI_edger+=1\n",
    "PI_robert+=1\n",
    "A_marcov_edger+=1\n",
    "A_marcov_robert+=1"
   ]
  },
  {
   "cell_type": "code",
   "execution_count": 33,
   "id": "9dedb861-1d6f-4cb2-8ff1-944bb67a909e",
   "metadata": {
    "tags": []
   },
   "outputs": [
    {
     "data": {
      "text/plain": [
       "[<matplotlib.lines.Line2D at 0x25929c11410>]"
      ]
     },
     "execution_count": 33,
     "metadata": {},
     "output_type": "execute_result"
    },
    {
     "data": {
      "image/png": "[encoded data removed]",
      "text/plain": [
       "<Figure size 640x480 with 1 Axes>"
      ]
     },
     "metadata": {},
     "output_type": "display_data"
    }
   ],
   "source": [
    "import matplotlib.pyplot as plt\n",
    "distribution=A_marcov_edger.copy()\n",
    "plt.plot(distribution.reshape(-1))"
   ]
  },
  {
   "cell_type": "code",
   "execution_count": 34,
   "id": "ce05f716-3811-459c-8e2a-730e3788635f",
   "metadata": {
    "tags": []
   },
   "outputs": [
    {
     "data": {
      "text/plain": [
       "[<matplotlib.lines.Line2D at 0x2592a60fc50>]"
      ]
     },
     "execution_count": 34,
     "metadata": {},
     "output_type": "execute_result"
    },
    {
     "data": {
      "image/png": "[encoded data removed]",
      "text/plain": [
       "<Figure size 640x480 with 1 Axes>"
      ]
     },
     "metadata": {},
     "output_type": "display_data"
    }
   ],
   "source": [
    "import matplotlib.pyplot as plt\n",
    "distribution=A_marcov_robert.copy()\n",
    "plt.plot(distribution.reshape(-1))"
   ]
  },
  {
   "cell_type": "markdown",
   "id": "8fd1bcdf-dbff-4bfb-8d2e-d39f37aec5e7",
   "metadata": {},
   "source": [
    "##### normalizing the each value of the marcov model by deviding each value of a row by the summation of each value in that raw which will give us probability of occurrence of column token where corresponding row token index has already occur"
   ]
  },
  {
   "cell_type": "code",
   "execution_count": 35,
   "id": "da5adb70-e94c-4a16-815d-2b07ef56d01a",
   "metadata": {
    "tags": []
   },
   "outputs": [],
   "source": [
    "## calculating the probability value each each matrix element\n",
    "PI_edger_prob=PI_edger/PI_edger.sum()\n",
    "PI_robert_prob=PI_robert/PI_robert.sum()\n",
    "A_marcov_edger_prob=A_marcov_edger/A_marcov_edger.sum(axis=1,keepdims=True)\n",
    "A_marcov_robert_prob=A_marcov_robert/A_marcov_robert.sum(axis=1,keepdims=True)\n"
   ]
  },
  {
   "cell_type": "code",
   "execution_count": 36,
   "id": "a207725c-a32a-4b32-a92f-a3f9adb24678",
   "metadata": {
    "tags": []
   },
   "outputs": [
    {
     "name": "stdout",
     "output_type": "stream",
     "text": [
      "[0.0011274  0.0011274  0.00338219 ... 0.0005637  0.0005637  0.0005637 ]\n",
      "_______________________________\n",
      "[0.0026824  0.00053648 0.00053648 ... 0.00053648 0.00053648 0.00053648]\n",
      "_______________________________\n",
      "[[0.00092937 0.00185874 0.00092937 ... 0.00092937 0.00092937 0.00092937]\n",
      " [0.00092851 0.00092851 0.00185701 ... 0.00092851 0.00092851 0.00092851]\n",
      " [0.00092251 0.00092251 0.00092251 ... 0.00092251 0.00092251 0.00092251]\n",
      " ...\n",
      " [0.0009311  0.0009311  0.0009311  ... 0.0009311  0.0009311  0.0009311 ]\n",
      " [0.00093023 0.00093023 0.00093023 ... 0.00093023 0.00093023 0.00093023]\n",
      " [0.00093023 0.00093023 0.00093023 ... 0.00093023 0.00093023 0.00093023]]\n",
      "_______________________________\n",
      "[[0.00085179 0.00255537 0.00085179 ... 0.00085179 0.00085179 0.00085179]\n",
      " [0.0008547  0.0008547  0.0025641  ... 0.0008547  0.0008547  0.0008547 ]\n",
      " [0.00085763 0.00085763 0.00085763 ... 0.00085763 0.00085763 0.00085763]\n",
      " ...\n",
      " [0.00085911 0.00085911 0.00085911 ... 0.00085911 0.00085911 0.00085911]\n",
      " [0.00085837 0.00085837 0.00085837 ... 0.00085837 0.00085837 0.00085837]\n",
      " [0.00085911 0.00085911 0.00085911 ... 0.00085911 0.00085911 0.00085911]]\n",
      "_______________________________\n"
     ]
    }
   ],
   "source": [
    "print(PI_edger_prob)\n",
    "print('_______________________________')\n",
    "print(PI_robert_prob)\n",
    "print('_______________________________')\n",
    "\n",
    "print(A_marcov_edger_prob)\n",
    "print('_______________________________')\n",
    "\n",
    "print(A_marcov_robert_prob)\n",
    "print('_______________________________')\n"
   ]
  },
  {
   "cell_type": "markdown",
   "id": "cfe26f60-5f97-4289-a956-f3a67a3b5ec4",
   "metadata": {},
   "source": [
    "##### in this phase all marcov matrix values and PI list value are amplified by using log function because each original value are so small which is hard to stored in computer memory  which eventually create error in further calculation."
   ]
  },
  {
   "cell_type": "code",
   "execution_count": 37,
   "id": "b2c01264-4d98-4ff2-a84a-e9555ac8a29e",
   "metadata": {
    "tags": []
   },
   "outputs": [],
   "source": [
    "## logarithmic value\n",
    "log_PI_edger=np.log(PI_edger_prob)\n",
    "log_PI_robert=np.log(PI_robert_prob)\n",
    "log_A_edger=np.log(A_marcov_edger_prob)\n",
    "log_A_robert=np.log(A_marcov_robert_prob)\n"
   ]
  },
  {
   "cell_type": "markdown",
   "id": "e43b0087-54cb-444b-aefd-1bbb7d5e93b5",
   "metadata": {},
   "source": [
    "## testing of the marcov model\n"
   ]
  },
  {
   "cell_type": "markdown",
   "id": "76b09158-54ae-4228-b394-d692670ec917",
   "metadata": {},
   "source": [
    "#### testing the last 50 rows of robert frost poem and edger allen poem \n",
    "#### in this testing process we have to predict that input poem belongs to robert frost and edger allen\n"
   ]
  },
  {
   "cell_type": "code",
   "execution_count": 40,
   "id": "b31cb81c-0c83-472d-a911-453f09aa244a",
   "metadata": {
    "tags": []
   },
   "outputs": [
    {
     "name": "stdout",
     "output_type": "stream",
     "text": [
      "[[361, 27, 1081, 95, 14, 120, 176, 1127], [27, 56, 1057, 23, 388, 27, 872, 1047], [9, 664, 47, 1048, 841, 295, 385, 23, 664, 47], [1128, 9, 1129, 23, 27, 852, 7, 153, 27, 1067], [1048, 461, 1031, 9, 86, 451, 1031, 27, 852, 763], [7, 1030, 27, 1029, 118, 27, 675, 220, 25], [29, 617, 124, 14, 46, 839], [103, 872, 44, 617, 328, 73, 40, 270], [27, 872, 14, 84, 23, 853, 249, 27, 1035], [71, 27, 648, 234, 27, 872, 288, 47, 34, 25]]\n",
      "++++++++++++++++++++++\n",
      "[[47, 16, 1018, 21, 16, 1019, 1020, 363], [133, 162, 8, 281], [16, 296, 39, 192], [34, 1021, 36, 16, 557], [21, 16, 1022, 1023, 39, 172, 438], [57, 16, 1024, 415, 39, 816, 1025], [34, 725, 256, 6, 1010], [15, 16, 218], [171, 553, 1026], [39, 263, 172, 652, 155, 242]]\n"
     ]
    }
   ],
   "source": [
    "print(test_robert[:10])\n",
    "print(\"++++++++++++++++++++++\")\n",
    "print(test_edger[:10])"
   ]
  },
  {
   "cell_type": "markdown",
   "id": "bfc6cc9a-6abb-4f94-b2cf-1299211b7d2b",
   "metadata": {},
   "source": [
    "#### to classify the poem between two category bayes theorm is used here. and since the formula for bayes theorm is\n",
    "1. probability of poem belongs to robert frost is denoted like this Prob(robert_frost/poem)=prob(poem/robert_frost)xProb(robert_frost)\n",
    "2. probability of poem belongs to edger allen is denoted like this Prob(edger_allen/poem)=prob(poem/edger_allen)xprob(edger_allen)\n",
    "3. since pecentage of data set we have taken for trainig the marcov model for each poet is same so prob(robert_Frost) and prob(edger_allen) is 1/2 which is also can be ignored because at the the end it is the relative value which will decide the category of the poem.\n",
    "4. and to calculate prob(poem/rober_frost) and prob(poem/edger allen) below methodlogy is used\n",
    "\n",
    "5. i will select all the consecutive token value of input poem and find the corresponding marcov model value . after this we will mulitply all these value but since these matrix values are passed through the log fun so  instead of multipication we will add each found value for each consecutive token id. \n",
    "6. we also add PI value of each first token id of a sentence \n",
    "7. these process is repeated for both the marcov model :robert frost and edger allen\n",
    "8. then if prob is high from a model then poem belongs to that poet"
   ]
  },
  {
   "cell_type": "code",
   "execution_count": 42,
   "id": "26133cf0-bd76-4647-836c-bb020d59082c",
   "metadata": {
    "tags": []
   },
   "outputs": [],
   "source": [
    "def prob_of_belonging_of_a_poem(poem):\n",
    "    inf_edger=[]\n",
    "    inf_robert=[]\n",
    "    for sent in poem:\n",
    "        if sent[0] in indToWord_edger:\n",
    "            curinf_edger=log_PI_edger[sent[0]]\n",
    "        else:\n",
    "            curinf_edger=0\n",
    "        if sent[0] in indToWord_robert:\n",
    "            curinf_robert=log_PI_robert[sent[0]]\n",
    "        else:\n",
    "            curinf_robert=0\n",
    "        for ind in range(len(sent)-1):\n",
    "\n",
    "            if (sent[ind]  in indToWord_edger) and (sent[ind+1] in indToWord_edger):\n",
    "                curinf_edger+=log_A_edger[sent[ind],sent[ind+1]]\n",
    "\n",
    "            else:\n",
    "                curinf_edger+=0\n",
    "            if (sent[ind] in indToWord_robert) and (sent[ind+1] in indToWord_robert):\n",
    "                curinf_robert+=log_A_robert[sent[ind],sent[ind+1]]\n",
    "            else:\n",
    "                curinf_robert+=0\n",
    "        inf_edger.append(curinf_edger)\n",
    "        inf_robert.append(curinf_robert)\n",
    "    return inf_edger,inf_robert    \n",
    "    \n",
    "        \n",
    "        \n",
    "        \n",
    "    "
   ]
  },
  {
   "cell_type": "code",
   "execution_count": 46,
   "id": "6e976c1b-0421-404f-bde9-fa7f0860a365",
   "metadata": {
    "tags": []
   },
   "outputs": [],
   "source": [
    "def fun_classification(row):\n",
    "    \n",
    "    if row['edger_marcov_inf']<row['robert_marcov_inf']:\n",
    "        return \"robert\"\n",
    "    else:\n",
    "        return \"edger\""
   ]
  },
  {
   "cell_type": "markdown",
   "id": "418be3f1-94ea-47da-8714-457ec3e19eb9",
   "metadata": {},
   "source": [
    "#### testing edger Poem"
   ]
  },
  {
   "cell_type": "code",
   "execution_count": 52,
   "id": "688b76b4-6a9e-44b1-8200-84da77a7d725",
   "metadata": {},
   "outputs": [
    {
     "data": {
      "text/plain": [
       "category\n",
       "edger    50\n",
       "Name: count, dtype: int64"
      ]
     },
     "execution_count": 52,
     "metadata": {},
     "output_type": "execute_result"
    }
   ],
   "source": [
    "inf_edger,inf_robert=prob_of_belonging_of_a_poem(test_edger)\n",
    "inference_df_edger=pd.DataFrame(inf_edger,columns=['edger_marcov_inf'])\n",
    "inference_df_robert=pd.DataFrame(inf_robert,columns=['robert_marcov_inf'])\n",
    "inference_df=pd.concat([inference_df_edger,inference_df_robert],axis=1)\n",
    "inference_df['category']=inference_df.apply(fun_classification ,axis=1)\n",
    "inference_df.value_counts('category')"
   ]
  },
  {
   "cell_type": "markdown",
   "id": "f845119b-4419-4f40-9b28-eaf6095c22d3",
   "metadata": {
    "tags": []
   },
   "source": [
    "#### testing robert frost poem"
   ]
  },
  {
   "cell_type": "code",
   "execution_count": 51,
   "id": "ba7129dc-0a67-42c0-88b9-50442eb3b49c",
   "metadata": {},
   "outputs": [
    {
     "data": {
      "text/plain": [
       "category\n",
       "edger     27\n",
       "robert    23\n",
       "Name: count, dtype: int64"
      ]
     },
     "execution_count": 51,
     "metadata": {},
     "output_type": "execute_result"
    }
   ],
   "source": [
    "inf_edger,inf_robert=prob_of_belonging_of_a_poem(test_robert)\n",
    "inference_df_edger=pd.DataFrame(inf_edger,columns=['edger_marcov_inf'])\n",
    "inference_df_robert=pd.DataFrame(inf_robert,columns=['robert_marcov_inf'])\n",
    "inference_df=pd.concat([inference_df_edger,inference_df_robert],axis=1)\n",
    "inference_df['category']=inference_df.apply(fun_classification ,axis=1)\n",
    "inference_df.value_counts('category')"
   ]
  },
  {
   "cell_type": "code",
   "execution_count": null,
   "id": "0ca57043-0442-4cd2-a24a-70f3472afc6e",
   "metadata": {},
   "outputs": [],
   "source": []
  }
 ],
 "metadata": {
  "kernelspec": {
   "display_name": "Python 3 (ipykernel)",
   "language": "python",
   "name": "python3"
  },
  "language_info": {
   "codemirror_mode": {
    "name": "ipython",
    "version": 3
   },
   "file_extension": ".py",
   "mimetype": "text/x-python",
   "name": "python",
   "nbconvert_exporter": "python",
   "pygments_lexer": "ipython3",
   "version": "3.11.5"
  }
 },
 "nbformat": 4,
 "nbformat_minor": 5
}
